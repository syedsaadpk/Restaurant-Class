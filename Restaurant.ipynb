{
 "cells": [
  {
   "cell_type": "markdown",
   "metadata": {},
   "source": [
    "# Restaurant Class"
   ]
  },
  {
   "cell_type": "code",
   "execution_count": 70,
   "metadata": {},
   "outputs": [],
   "source": [
    "info = []\n",
    "class restaurant():\n",
    "    def __init__(self, restaurant_name, cuisine_type):\n",
    "        self.restaurant_name = restaurant_name\n",
    "        self.cuisine_type = cuisine_type\n",
    "        \n",
    "    def dish_list(self):\n",
    "        global info\n",
    "        print('Items: ')\n",
    "        for a in info:\n",
    "            print(a)\n",
    "            \n",
    "    def add_dish_in_list(self):\n",
    "        flag = True\n",
    "        while flag:\n",
    "            try:\n",
    "                r = str(input('Enter an item: ')).title()\n",
    "                if r =='Quit':\n",
    "                    flag = False\n",
    "                else:\n",
    "                    info.append(r)\n",
    "            except ValueError:\n",
    "                print('Invalid input ')\n",
    "                \n",
    "                \n",
    "    def remove_dish_in_list(self):\n",
    "        flag = True\n",
    "        while flag:\n",
    "            try:\n",
    "                r = str(input('Enter an item: ')).title()\n",
    "                if r =='Quit':\n",
    "                    flag = False\n",
    "                elif r in info:\n",
    "                    info.remove(r)\n",
    "                else:\n",
    "                    print(f'{r} is not in your dish list ')\n",
    "                    flag = False\n",
    "            except ValueError:\n",
    "                print('Invalid input ')"
   ]
  },
  {
   "cell_type": "code",
   "execution_count": 71,
   "metadata": {},
   "outputs": [],
   "source": [
    "r1 = restaurant('United King', 'Pakistani')"
   ]
  },
  {
   "cell_type": "code",
   "execution_count": 72,
   "metadata": {},
   "outputs": [
    {
     "data": {
      "text/plain": [
       "'United King'"
      ]
     },
     "execution_count": 72,
     "metadata": {},
     "output_type": "execute_result"
    }
   ],
   "source": [
    "r1.restaurant_name"
   ]
  },
  {
   "cell_type": "code",
   "execution_count": 73,
   "metadata": {},
   "outputs": [
    {
     "data": {
      "text/plain": [
       "'Pakistani'"
      ]
     },
     "execution_count": 73,
     "metadata": {},
     "output_type": "execute_result"
    }
   ],
   "source": [
    "r1.cuisine_type"
   ]
  },
  {
   "cell_type": "code",
   "execution_count": 74,
   "metadata": {},
   "outputs": [
    {
     "name": "stdout",
     "output_type": "stream",
     "text": [
      "Items: \n"
     ]
    }
   ],
   "source": [
    "r1.dish_list()"
   ]
  },
  {
   "cell_type": "code",
   "execution_count": 75,
   "metadata": {},
   "outputs": [
    {
     "name": "stdout",
     "output_type": "stream",
     "text": [
      "Enter an item: pizza\n",
      "Enter an item: burger\n",
      "Enter an item: tikka\n",
      "Enter an item: chargha\n",
      "Enter an item: quit\n"
     ]
    }
   ],
   "source": [
    "r1.add_dish_in_list()"
   ]
  },
  {
   "cell_type": "code",
   "execution_count": 76,
   "metadata": {},
   "outputs": [
    {
     "name": "stdout",
     "output_type": "stream",
     "text": [
      "Items: \n",
      "Pizza\n",
      "Burger\n",
      "Tikka\n",
      "Chargha\n"
     ]
    }
   ],
   "source": [
    "r1.dish_list()"
   ]
  },
  {
   "cell_type": "code",
   "execution_count": 77,
   "metadata": {},
   "outputs": [
    {
     "name": "stdout",
     "output_type": "stream",
     "text": [
      "Enter an item: tikka\n",
      "Enter an item: quit\n"
     ]
    }
   ],
   "source": [
    "r1.remove_dish_in_list()"
   ]
  },
  {
   "cell_type": "code",
   "execution_count": 80,
   "metadata": {},
   "outputs": [
    {
     "name": "stdout",
     "output_type": "stream",
     "text": [
      "Items: \n",
      "Pizza\n",
      "Burger\n",
      "Chargha\n"
     ]
    }
   ],
   "source": [
    "r1.dish_list()"
   ]
  },
  {
   "cell_type": "code",
   "execution_count": 81,
   "metadata": {},
   "outputs": [
    {
     "name": "stdout",
     "output_type": "stream",
     "text": [
      "Enter an item: tikka\n",
      "Tikka is not in your dish list \n"
     ]
    }
   ],
   "source": [
    "r1.remove_dish_in_list()"
   ]
  }
 ],
 "metadata": {
  "kernelspec": {
   "display_name": "Python 3",
   "language": "python",
   "name": "python3"
  },
  "language_info": {
   "codemirror_mode": {
    "name": "ipython",
    "version": 3
   },
   "file_extension": ".py",
   "mimetype": "text/x-python",
   "name": "python",
   "nbconvert_exporter": "python",
   "pygments_lexer": "ipython3",
   "version": "3.7.3"
  }
 },
 "nbformat": 4,
 "nbformat_minor": 2
}
